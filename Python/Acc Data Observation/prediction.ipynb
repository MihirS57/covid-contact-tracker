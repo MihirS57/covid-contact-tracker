{
 "cells": [
  {
   "cell_type": "code",
   "execution_count": 1,
   "id": "1366e315",
   "metadata": {},
   "outputs": [
    {
     "data": {
      "application/javascript": [
       "IPython.notebook.set_autosave_interval(120000)"
      ]
     },
     "metadata": {},
     "output_type": "display_data"
    },
    {
     "name": "stdout",
     "output_type": "stream",
     "text": [
      "Autosaving every 120 seconds\n",
      "Using matplotlib backend: TkAgg\n"
     ]
    }
   ],
   "source": [
    "%autosave 120\n",
    "import os.path\n",
    "import numpy as np\n",
    "import pandas as pd\n",
    "%matplotlib\n",
    "import matplotlib.pyplot as plt\n",
    "from sklearn.model_selection import train_test_split\n",
    "from sklearn.metrics import confusion_matrix,classification_report,accuracy_score"
   ]
  },
  {
   "cell_type": "code",
   "execution_count": 45,
   "id": "4ae2e28c",
   "metadata": {},
   "outputs": [
    {
     "name": "stdout",
     "output_type": "stream",
     "text": [
      "Dataset Version number (Walk): 5\n"
     ]
    }
   ],
   "source": [
    "dataset_ver_walk = input('Dataset Version number (Walk): ')\n",
    "walk_dataset = pd.read_csv(f'./sample_datasets/Sample_walk_dataset_{dataset_ver_walk}.csv')\n",
    "#test_walk_dataset = pd.read_csv(f'./sample_datasets/Test_walk_dataset_{dataset_ver_walk}.csv')"
   ]
  },
  {
   "cell_type": "code",
   "execution_count": 46,
   "id": "e51e1cbb",
   "metadata": {},
   "outputs": [
    {
     "name": "stdout",
     "output_type": "stream",
     "text": [
      "Dataset Version number (Run): 5\n"
     ]
    }
   ],
   "source": [
    "dataset_ver_run = input('Dataset Version number (Run): ')\n",
    "run_dataset = pd.read_csv(f'./sample_datasets/Sample_run_dataset_{dataset_ver_run}.csv')\n",
    "#test_run_dataset = pd.read_csv(f'./sample_datasets/Test_run_dataset_{dataset_ver_run}.csv')"
   ]
  },
  {
   "cell_type": "code",
   "execution_count": 47,
   "id": "868426d4",
   "metadata": {},
   "outputs": [
    {
     "name": "stdout",
     "output_type": "stream",
     "text": [
      "Dataset Version number (Random): 5\n"
     ]
    }
   ],
   "source": [
    "dataset_ver_random = input('Dataset Version number (Random): ')\n",
    "random_dataset = pd.read_csv(f'./sample_datasets/Sample_random_dataset_{dataset_ver_run}.csv')"
   ]
  },
  {
   "cell_type": "code",
   "execution_count": 5,
   "id": "7e018bfa",
   "metadata": {},
   "outputs": [],
   "source": [
    "X_indices = [1,5,6,7,8,9,10,11,12,13,14,15,16,17,18,19,20,21,22,23,24,25,26,27,28]\n",
    "y_indices = [2,3,4]\n",
    "def count_spikes(list,TS):\n",
    "    std_spike_val = 8\n",
    "    diff_ts_spike = 1.0\n",
    "    prev_spike_ts = 0.0\n",
    "    counter = 0\n",
    "    for idx,val in enumerate(list):\n",
    "        if val >= std_spike_val and TS[idx] - prev_spike_ts >= diff_ts_spike:\n",
    "            counter+=1\n",
    "            prev_spike_ts = TS[idx]\n",
    "        \n",
    "    print(f'Number of spikes: {counter}')\n",
    "\n",
    "def plot_one_plot():\n",
    "    val = input('Which section? (X,Y,Z,Acc): ')\n",
    "    if val == 'X':\n",
    "        plt.plot(TS,X,color=\"red\",linewidth=1.0)\n",
    "    elif val == 'Y':\n",
    "        plt.plot(TS,Y,color=\"red\",linewidth=1.0)\n",
    "    elif val == 'Z':\n",
    "        plt.plot(TS,Z,color=\"red\",linewidth=1.0)\n",
    "    else:\n",
    "        plt.axhline(y=12.5)\n",
    "        plt.axhline(y=10)\n",
    "        plt.scatter(TS,Acc,s=10,color=\"blue\")\n",
    "        plt.plot(TS,Acc,color=\"red\",linewidth=1.0)\n",
    "    plt.xlabel('Time Stamp')\n",
    "    plt.ylabel('acceleration in m/s (Gravity Incl)')\n",
    "\n",
    "\n",
    "def plot_sub_plots():\n",
    "    figure, axis = plt.subplots(2, 2)\n",
    "\n",
    "    axis[0,0].plot(TS,X,color=\"red\",linewidth=1.0)\n",
    "    axis[0,0].set_title(\"WRT X Values\")\n",
    "\n",
    "    axis[0,1].plot(TS,Y,color=\"blue\",linewidth=1.0)\n",
    "    axis[0,1].set_title(\"WRT Y Values\")\n",
    "\n",
    "    axis[1,0].plot(TS,Z,color=\"yellow\",linewidth=1.0)\n",
    "    axis[1,0].set_title(\"WRT Z Values\")\n",
    "\n",
    "    axis[1,1].plot(TS,X,color=\"red\",linewidth=1.0)\n",
    "    axis[1,1].plot(TS,Y,color=\"blue\",linewidth=1.0)\n",
    "    axis[1,1].plot(TS,Z,color=\"yellow\",linewidth=1.0)\n",
    "    axis[1,1].plot(TS,Acc,color=\"grey\",linewidth=1.0)\n",
    "    axis[1,1].set_title(\"WRT X,Y,Z,ACC Values\")\n",
    "#    [1,3,4,5,6,7,8,9,10,11,12,13,14,15,16,17,18,19,20,21,22,23,24,25,26] \n",
    "def preprocessForXandY(dataset_walk, dataset_run,dataset_rand):\n",
    "    X_walk = dataset_walk.iloc[:,X_indices]\n",
    "    y_walk = dataset_walk.iloc[:,y_indices]\n",
    "    X_run = dataset_run.iloc[:,X_indices]\n",
    "    y_run = dataset_run.iloc[:,y_indices]\n",
    "    X_rand = dataset_rand.iloc[:,X_indices]\n",
    "    y_rand = dataset_rand.iloc[:,y_indices]\n",
    "    \n",
    "    X_frames = [X_walk,X_run,X_rand]\n",
    "    X = pd.concat(X_frames)\n",
    "    Y_frames = [y_walk,y_run,y_rand]\n",
    "    y = pd.concat(Y_frames)\n",
    "    return X,y\n",
    "\n",
    "def preprocessAndSplit(dataset_walk, dataset_run, dataset_rand):\n",
    "    W_train, W_test, Wy_train, Wy_test = train_test_split(\n",
    "        dataset_walk.iloc[:,X_indices], dataset_walk.iloc[:,y_indices], test_size=0.25, shuffle=False, stratify=None)\n",
    "    R_train, R_test, Ry_train, Ry_test = train_test_split(\n",
    "        dataset_run.iloc[:, X_indices], dataset_run.iloc[:,y_indices], test_size=0.25, shuffle=False, stratify=None)\n",
    "    Rd_train, Rd_test, Rdy_train, Rdy_test = train_test_split(\n",
    "        dataset_rand.iloc[:,X_indices], dataset_rand.iloc[:,y_indices], test_size=0.25, shuffle=False, stratify=None)\n",
    "    \n",
    "    X_train = pd.concat([W_train,R_train,Rd_train])\n",
    "    y_train = pd.concat([Wy_train,Ry_train,Rdy_train])\n",
    "    X_test = pd.concat([W_test,R_test,Rd_test])\n",
    "    y_test = pd.concat([Wy_test,Ry_test,Rdy_test])\n",
    "    return X_train,y_train,X_test,y_test\n",
    "\n",
    "def makeOneObservation(input_dataset):\n",
    "    row,col = total_observations = input_dataset.shape\n",
    "    print(row,col)\n",
    "\n",
    "    new_observation = []\n",
    "    ts_i = 0\n",
    "    for ts_i in range(0,row-3,4):\n",
    "        new_observation.append([\n",
    "            input_dataset.iloc[ts_i,0],\n",
    "                       input_dataset.iloc[ts_i,1],\n",
    "                       input_dataset.iloc[ts_i,2],input_dataset.iloc[ts_i,3],input_dataset.iloc[ts_i,4],\n",
    "                       input_dataset.iloc[ts_i,5], input_dataset.iloc[ts_i,6],input_dataset.iloc[ts_i,7],\n",
    "                       input_dataset.iloc[ts_i,8], input_dataset.iloc[ts_i,9],input_dataset.iloc[ts_i,10],\n",
    "                       \n",
    "                       input_dataset.iloc[ts_i+1,5], input_dataset.iloc[ts_i+1,6],input_dataset.iloc[ts_i+1,7],\n",
    "                       input_dataset.iloc[ts_i+1,8], input_dataset.iloc[ts_i+1,9],input_dataset.iloc[ts_i+1,10],\n",
    "                    \n",
    "                       input_dataset.iloc[ts_i+2,5], input_dataset.iloc[ts_i+2,6],input_dataset.iloc[ts_i+2,7],\n",
    "                       input_dataset.iloc[ts_i+2,8], input_dataset.iloc[ts_i+2,9],input_dataset.iloc[ts_i+2,10],\n",
    "                       \n",
    "                       input_dataset.iloc[ts_i+3,5], input_dataset.iloc[ts_i+3,6],input_dataset.iloc[ts_i+3,7],\n",
    "                       input_dataset.iloc[ts_i+3,8], input_dataset.iloc[ts_i+3,9],input_dataset.iloc[ts_i+3,10],\n",
    "                       ])\n",
    "        \n",
    "    new_obs = pd.DataFrame(new_observation,columns=['TS','Age','Random','Walk','Run',\n",
    "                                'Xa_1','Ya_1','Za_1','Xg_1','Yg_1','Zg_1',\n",
    "                                'Xa_2','Ya_2','Za_2','Xg_2','Yg_2','Zg_2',\n",
    "                                'Xa_3','Ya_3','Za_3','Xg_3','Yg_3','Zg_3',\n",
    "                                'Xa_4','Ya_4','Za_4','Xg_4','Yg_4','Zg_4'\n",
    "                                ])\n",
    "    return new_obs\n",
    "\n",
    "def accuracyNums(y_exp, y_pred):\n",
    "    model_accuracy = accuracy_score(y_exp, y_pred)\n",
    "    return (model_accuracy,confusion_matrix(y_exp,y_pred))\n",
    "\n",
    "def saveMyModel(model,version_num):\n",
    "    file_name = f'trained_models/run_walk_random_model_v{version_num}'\n",
    "    if os.path.isfile(f'{file_name}.h5') is False:\n",
    "        model.save(f'{file_name}.h5')\n",
    "    converter = tf.lite.TFLiteConverter.from_keras_model(model)\n",
    "    tflite_model = converter.convert()\n",
    "    with open(f'{file_name}.tflite', 'wb') as f:\n",
    "      f.write(tflite_model)\n",
    "    interpreter = tf.lite.Interpreter(model_path=f'{file_name}.tflite')\n",
    "    interpreter.allocate_tensors()\n",
    "\n",
    "    print(f'Model saved as: {file_name} in h5 and tflite')\n",
    "    # Print input shape and type\n",
    "    inputs = interpreter.get_input_details()\n",
    "    print('{} input(s):'.format(len(inputs)))\n",
    "    for i in range(0, len(inputs)):\n",
    "        print('{} {}'.format(inputs[i]['shape'], inputs[i]['dtype']))\n",
    "\n",
    "    # Print output shape and type\n",
    "    outputs = interpreter.get_output_details()\n",
    "    print('\\n{} output(s):'.format(len(outputs)))\n",
    "    for i in range(0, len(outputs)):\n",
    "        print('{} {}'.format(outputs[i]['shape'], outputs[i]['dtype']))"
   ]
  },
  {
   "cell_type": "code",
   "execution_count": null,
   "id": "d064b46d",
   "metadata": {},
   "outputs": [],
   "source": [
    "choice = input('run or walk? ')\n",
    "if choice == 'run':\n",
    "    matrix = run_dataset\n",
    "else:\n",
    "    matrix = walk_dataset\n",
    "plot_type = input('What type of plot? Single (S) or Multiple (M) or count spikes (CS): ')\n",
    "#LR = matrix.iloc[:,[0]].values\n",
    "RW = matrix.iloc[:,[2]].values\n",
    "X = matrix.iloc[:,[3]].values\n",
    "Y = matrix.iloc[:,[4]].values\n",
    "Z = matrix.iloc[:,[5]].values\n",
    "Acc = matrix.iloc[:,[9]].values\n",
    "#TS_i = matrix.iloc[:,[4]].values[0]\n",
    "#TS = (matrix.iloc[:,[4]].values - TS_i)/100000000\n",
    "TS = matrix.iloc[:,[0]].values\n",
    "if TS[0] > 100000000:\n",
    "    TS = convert_ts(TS)\n",
    "if plot_type == 'S':\n",
    "    plot_one_plot()\n",
    "elif plot_type == 'M': \n",
    "    plot_sub_plots()\n",
    "else:\n",
    "    count_spikes(Acc,TS=TS)\n",
    "plt.show()"
   ]
  },
  {
   "cell_type": "code",
   "execution_count": null,
   "id": "e9ec866a",
   "metadata": {},
   "outputs": [],
   "source": [
    "# new_data = makeOneObservation(run_dataset)\n",
    "# new_data"
   ]
  },
  {
   "cell_type": "code",
   "execution_count": 48,
   "id": "a3b61ac6",
   "metadata": {},
   "outputs": [
    {
     "name": "stdout",
     "output_type": "stream",
     "text": [
      "26 12\n",
      "33 12\n",
      "23 12\n",
      "   Age  Xa_1  Ya_1  Za_1  Xg_1  Yg_1  Zg_1  Xa_2  Ya_2  Za_2  ...  Za_3  Xg_3  \\\n",
      "0   21   0.1   0.0   0.1   0.0   0.0   0.0  -0.6   0.7   0.4  ...  -0.2  -0.7   \n",
      "1   21  -0.5   0.0   3.0  -0.8   0.0  -0.2  -0.2   4.0   5.8  ...  -0.6   0.3   \n",
      "2   21  -1.7  -0.8  -0.8   1.0   0.4   0.1   1.3  -1.5  -3.7  ...   0.2   1.1   \n",
      "3   21  -2.9   1.7   0.3   0.8  -0.1  -0.1   0.4   0.0   0.4  ...  -0.5   0.0   \n",
      "4   21   1.5  -1.9   0.5  -0.9  -0.3  -0.3   2.3   0.5  -1.1  ...  -2.8  -1.1   \n",
      "5   21   1.1  -1.1  -0.3  -0.5   0.1  -0.1   0.2   0.1   2.0  ...  -3.5   0.5   \n",
      "0   21   0.7   2.1  -0.4  -1.8  -0.8   0.0  -2.8   2.0   4.9  ...  -5.9   2.2   \n",
      "1   21  -1.0   4.3   1.6  -4.5  -0.2  -0.3  -4.9   4.3   3.3  ...  -3.3   2.2   \n",
      "2   21   4.4  -3.7  -0.5  -2.9  -0.1  -0.2   6.8 -10.4  -3.0  ...   4.9   1.5   \n",
      "3   21   0.5  -1.5  12.3  -0.1  -0.3  -0.3  -1.8   1.7  -6.0  ...   4.9  -0.1   \n",
      "4   21  -5.7   5.3   3.8   2.8   0.3  -0.6   4.4   2.6  -6.6  ...   3.2  -2.4   \n",
      "5   21   3.1  -2.2   4.0   3.9   0.4  -0.5  -3.0   3.8   4.1  ...  -0.2  -3.7   \n",
      "6   21  -3.6   0.1  -6.5   2.4  -0.3   0.1  -6.2   1.9   2.9  ...   2.8  -3.6   \n",
      "7   21  -2.3   2.7  -4.5   0.8   0.0  -0.3  -3.8  -6.4   0.5  ...  -0.3  -1.9   \n",
      "0   21   0.0   0.0   0.0   0.0   0.0   0.0   0.0   0.0   0.0  ...   0.0   0.0   \n",
      "1   21   0.0   0.0   0.0   0.0   0.0   0.0   0.0   0.0   0.0  ...   0.0   0.0   \n",
      "2   21   0.0   0.0   0.0   0.0   0.0   0.0   0.0   0.0   0.0  ...   0.0   0.0   \n",
      "3   21   0.0   0.0   0.0   0.0   0.0   0.0   0.0   0.0   0.0  ...   0.0   0.0   \n",
      "4   21   0.0   0.0   0.0   0.0   0.0   0.0   0.0   0.0   0.0  ...   0.0   0.0   \n",
      "\n",
      "   Yg_3  Zg_3  Xa_4  Ya_4  Za_4  Xg_4  Yg_4  Zg_4  \n",
      "0  -0.3  -0.2   0.1   0.5   0.6   1.0   0.2   0.1  \n",
      "1   0.3   0.2   4.1  -2.9  -1.7  -0.7  -0.6  -0.2  \n",
      "2   0.0   0.1  -0.1  -0.5   0.4  -1.1  -0.5  -0.1  \n",
      "3  -0.5  -0.1  -0.7   0.1   0.3   0.5   0.4   0.1  \n",
      "4   0.2  -0.1  -1.7   0.3  -0.2   1.0   0.3   0.0  \n",
      "5   0.4   0.1  -2.6   0.5  -0.8  -0.9   0.1  -0.3  \n",
      "0  -0.2   0.3   2.4  -3.5   3.9  -0.4   0.0   0.2  \n",
      "1  -0.6   0.9  -1.3  -4.5   1.6  -2.2  -0.5   0.4  \n",
      "2  -1.0   0.4   2.3  11.9  -0.5  -3.9   0.1   0.1  \n",
      "3  -0.8  -0.3  -0.8   6.8   3.6  -4.7   0.8  -0.4  \n",
      "4  -0.1   0.2   4.2  -6.8   1.9  -2.5   1.1  -0.2  \n",
      "5   0.9   0.7  -8.3  -8.6 -12.3  -0.1   0.5   0.2  \n",
      "6   1.1   0.4  -7.1  -3.1   5.3   1.0  -0.1   0.2  \n",
      "7   0.6   0.5   4.1   2.5  -0.8   2.3  -0.1  -0.2  \n",
      "0   0.0   0.0   0.0   0.0   0.0   0.0   0.0   0.0  \n",
      "1   0.0   0.0   0.0   0.0   0.0   0.0   0.0   0.0  \n",
      "2   0.0   0.0   0.0   0.0   0.0   0.0   0.0   0.0  \n",
      "3   0.0   0.0   0.0   0.0   0.0   0.0   0.0   0.0  \n",
      "4   0.0   0.0   0.0   0.0   0.0   0.0   0.0   0.0  \n",
      "\n",
      "[19 rows x 25 columns] \n",
      "    Random  Walk  Run\n",
      "0       0     1    0\n",
      "1       0     1    0\n",
      "2       0     1    0\n",
      "3       0     1    0\n",
      "4       0     1    0\n",
      "5       0     1    0\n",
      "0       0     0    1\n",
      "1       0     0    1\n",
      "2       0     0    1\n",
      "3       0     0    1\n",
      "4       0     0    1\n",
      "5       0     0    1\n",
      "6       0     0    1\n",
      "7       0     0    1\n",
      "0       1     0    0\n",
      "1       1     0    0\n",
      "2       1     0    0\n",
      "3       1     0    0\n",
      "4       1     0    0 \n",
      "    Age  Xa_1  Ya_1  Za_1  Xg_1  Yg_1  Zg_1  Xa_2  Ya_2  Za_2  ...  Za_3  Xg_3  \\\n",
      "0   21   0.1   0.0   0.1   0.0   0.0   0.0  -0.6   0.7   0.4  ...  -0.2  -0.7   \n",
      "1   21  -0.5   0.0   3.0  -0.8   0.0  -0.2  -0.2   4.0   5.8  ...  -0.6   0.3   \n",
      "2   21  -1.7  -0.8  -0.8   1.0   0.4   0.1   1.3  -1.5  -3.7  ...   0.2   1.1   \n",
      "3   21  -2.9   1.7   0.3   0.8  -0.1  -0.1   0.4   0.0   0.4  ...  -0.5   0.0   \n",
      "0   21   0.7   2.1  -0.4  -1.8  -0.8   0.0  -2.8   2.0   4.9  ...  -5.9   2.2   \n",
      "1   21  -1.0   4.3   1.6  -4.5  -0.2  -0.3  -4.9   4.3   3.3  ...  -3.3   2.2   \n",
      "2   21   4.4  -3.7  -0.5  -2.9  -0.1  -0.2   6.8 -10.4  -3.0  ...   4.9   1.5   \n",
      "3   21   0.5  -1.5  12.3  -0.1  -0.3  -0.3  -1.8   1.7  -6.0  ...   4.9  -0.1   \n",
      "4   21  -5.7   5.3   3.8   2.8   0.3  -0.6   4.4   2.6  -6.6  ...   3.2  -2.4   \n",
      "5   21   3.1  -2.2   4.0   3.9   0.4  -0.5  -3.0   3.8   4.1  ...  -0.2  -3.7   \n",
      "0   21   0.0   0.0   0.0   0.0   0.0   0.0   0.0   0.0   0.0  ...   0.0   0.0   \n",
      "1   21   0.0   0.0   0.0   0.0   0.0   0.0   0.0   0.0   0.0  ...   0.0   0.0   \n",
      "2   21   0.0   0.0   0.0   0.0   0.0   0.0   0.0   0.0   0.0  ...   0.0   0.0   \n",
      "\n",
      "   Yg_3  Zg_3  Xa_4  Ya_4  Za_4  Xg_4  Yg_4  Zg_4  \n",
      "0  -0.3  -0.2   0.1   0.5   0.6   1.0   0.2   0.1  \n",
      "1   0.3   0.2   4.1  -2.9  -1.7  -0.7  -0.6  -0.2  \n",
      "2   0.0   0.1  -0.1  -0.5   0.4  -1.1  -0.5  -0.1  \n",
      "3  -0.5  -0.1  -0.7   0.1   0.3   0.5   0.4   0.1  \n",
      "0  -0.2   0.3   2.4  -3.5   3.9  -0.4   0.0   0.2  \n",
      "1  -0.6   0.9  -1.3  -4.5   1.6  -2.2  -0.5   0.4  \n",
      "2  -1.0   0.4   2.3  11.9  -0.5  -3.9   0.1   0.1  \n",
      "3  -0.8  -0.3  -0.8   6.8   3.6  -4.7   0.8  -0.4  \n",
      "4  -0.1   0.2   4.2  -6.8   1.9  -2.5   1.1  -0.2  \n",
      "5   0.9   0.7  -8.3  -8.6 -12.3  -0.1   0.5   0.2  \n",
      "0   0.0   0.0   0.0   0.0   0.0   0.0   0.0   0.0  \n",
      "1   0.0   0.0   0.0   0.0   0.0   0.0   0.0   0.0  \n",
      "2   0.0   0.0   0.0   0.0   0.0   0.0   0.0   0.0  \n",
      "\n",
      "[13 rows x 25 columns] \n",
      "    Random  Walk  Run\n",
      "0       0     1    0\n",
      "1       0     1    0\n",
      "2       0     1    0\n",
      "3       0     1    0\n",
      "0       0     0    1\n",
      "1       0     0    1\n",
      "2       0     0    1\n",
      "3       0     0    1\n",
      "4       0     0    1\n",
      "5       0     0    1\n",
      "0       1     0    0\n",
      "1       1     0    0\n",
      "2       1     0    0 \n",
      "    Age  Xa_1  Ya_1  Za_1  Xg_1  Yg_1  Zg_1  Xa_2  Ya_2  Za_2  ...  Za_3  Xg_3  \\\n",
      "4   21   1.5  -1.9   0.5  -0.9  -0.3  -0.3   2.3   0.5  -1.1  ...  -2.8  -1.1   \n",
      "5   21   1.1  -1.1  -0.3  -0.5   0.1  -0.1   0.2   0.1   2.0  ...  -3.5   0.5   \n",
      "6   21  -3.6   0.1  -6.5   2.4  -0.3   0.1  -6.2   1.9   2.9  ...   2.8  -3.6   \n",
      "7   21  -2.3   2.7  -4.5   0.8   0.0  -0.3  -3.8  -6.4   0.5  ...  -0.3  -1.9   \n",
      "3   21   0.0   0.0   0.0   0.0   0.0   0.0   0.0   0.0   0.0  ...   0.0   0.0   \n",
      "4   21   0.0   0.0   0.0   0.0   0.0   0.0   0.0   0.0   0.0  ...   0.0   0.0   \n",
      "\n",
      "   Yg_3  Zg_3  Xa_4  Ya_4  Za_4  Xg_4  Yg_4  Zg_4  \n",
      "4   0.2  -0.1  -1.7   0.3  -0.2   1.0   0.3   0.0  \n",
      "5   0.4   0.1  -2.6   0.5  -0.8  -0.9   0.1  -0.3  \n",
      "6   1.1   0.4  -7.1  -3.1   5.3   1.0  -0.1   0.2  \n",
      "7   0.6   0.5   4.1   2.5  -0.8   2.3  -0.1  -0.2  \n",
      "3   0.0   0.0   0.0   0.0   0.0   0.0   0.0   0.0  \n",
      "4   0.0   0.0   0.0   0.0   0.0   0.0   0.0   0.0  \n",
      "\n",
      "[6 rows x 25 columns] \n",
      "    Random  Walk  Run\n",
      "4       0     1    0\n",
      "5       0     1    0\n",
      "6       0     0    1\n",
      "7       0     0    1\n",
      "3       1     0    0\n",
      "4       1     0    0\n"
     ]
    }
   ],
   "source": [
    "walk_dataset = makeOneObservation(walk_dataset)\n",
    "run_dataset = makeOneObservation(run_dataset)\n",
    "random_dataset = makeOneObservation(random_dataset)\n",
    "X,y = preprocessForXandY(walk_dataset,run_dataset,random_dataset)\n",
    "X_train,y_train,X_test,y_test = preprocessAndSplit(walk_dataset,run_dataset,random_dataset)\n",
    "\n",
    "print(f'{X} \\n {y} \\n {X_train} \\n {y_train} \\n {X_test} \\n {y_test}')"
   ]
  },
  {
   "cell_type": "code",
   "execution_count": 26,
   "id": "9afd46d4",
   "metadata": {},
   "outputs": [
    {
     "data": {
      "text/plain": [
       "Index(['Age', 'Xa_1', 'Ya_1', 'Za_1', 'Xg_1', 'Yg_1', 'Zg_1', 'Xa_2', 'Ya_2',\n",
       "       'Za_2', 'Xg_2', 'Yg_2', 'Zg_2', 'Xa_3', 'Ya_3', 'Za_3', 'Xg_3', 'Yg_3',\n",
       "       'Zg_3', 'Xa_4', 'Ya_4', 'Za_4', 'Xg_4', 'Yg_4', 'Zg_4'],\n",
       "      dtype='object')"
      ]
     },
     "execution_count": 26,
     "metadata": {},
     "output_type": "execute_result"
    }
   ],
   "source": [
    "X.columns"
   ]
  },
  {
   "cell_type": "code",
   "execution_count": 7,
   "id": "40112301",
   "metadata": {},
   "outputs": [],
   "source": [
    "import tensorflow as tf\n",
    "from tensorflow import keras\n",
    "from tensorflow.keras.models import Sequential\n",
    "from tensorflow.keras.layers import Activation, Dense\n",
    "from tensorflow.keras.optimizers import Adam\n",
    "from tensorflow.keras.metrics import categorical_crossentropy"
   ]
  },
  {
   "cell_type": "code",
   "execution_count": 49,
   "id": "60be6551",
   "metadata": {},
   "outputs": [
    {
     "name": "stdout",
     "output_type": "stream",
     "text": [
      "Version: 1.1\n"
     ]
    }
   ],
   "source": [
    "model_v = input('Version: ')\n",
    "file_name = f'trained_models/run_walk_random_model_v{model_v}.h5'\n",
    "model = keras.models.load_model(file_name)"
   ]
  },
  {
   "cell_type": "code",
   "execution_count": 8,
   "id": "d18825f4",
   "metadata": {},
   "outputs": [],
   "source": [
    "model = Sequential([\n",
    "    Dense(units=32, input_shape=(25,), activation='relu'),\n",
    "    Dense(units=64, activation='relu'),\n",
    "    Dense(units=3, activation='softmax')\n",
    "])"
   ]
  },
  {
   "cell_type": "code",
   "execution_count": 9,
   "id": "0440f74d",
   "metadata": {},
   "outputs": [
    {
     "name": "stdout",
     "output_type": "stream",
     "text": [
      "Model: \"sequential\"\n",
      "_________________________________________________________________\n",
      "Layer (type)                 Output Shape              Param #   \n",
      "=================================================================\n",
      "dense (Dense)                (None, 32)                832       \n",
      "_________________________________________________________________\n",
      "dense_1 (Dense)              (None, 64)                2112      \n",
      "_________________________________________________________________\n",
      "dense_2 (Dense)              (None, 3)                 195       \n",
      "=================================================================\n",
      "Total params: 3,139\n",
      "Trainable params: 3,139\n",
      "Non-trainable params: 0\n",
      "_________________________________________________________________\n"
     ]
    }
   ],
   "source": [
    "model.summary()\n",
    "model.compile(optimizer=Adam(learning_rate=0.001), loss='categorical_crossentropy', metrics=['accuracy'])"
   ]
  },
  {
   "cell_type": "code",
   "execution_count": 50,
   "id": "36f9473d",
   "metadata": {},
   "outputs": [
    {
     "name": "stdout",
     "output_type": "stream",
     "text": [
      "Epoch 1/50\n",
      "1/1 - 0s - loss: 0.5231 - accuracy: 0.7692\n",
      "Epoch 2/50\n",
      "1/1 - 0s - loss: 0.4553 - accuracy: 0.7692\n",
      "Epoch 3/50\n",
      "1/1 - 0s - loss: 0.3617 - accuracy: 0.7692\n",
      "Epoch 4/50\n",
      "1/1 - 0s - loss: 0.2754 - accuracy: 0.9231\n",
      "Epoch 5/50\n",
      "1/1 - 0s - loss: 0.2214 - accuracy: 0.9231\n",
      "Epoch 6/50\n",
      "1/1 - 0s - loss: 0.1949 - accuracy: 1.0000\n",
      "Epoch 7/50\n",
      "1/1 - 0s - loss: 0.1822 - accuracy: 1.0000\n",
      "Epoch 8/50\n",
      "1/1 - 0s - loss: 0.1760 - accuracy: 1.0000\n",
      "Epoch 9/50\n",
      "1/1 - 0s - loss: 0.1727 - accuracy: 1.0000\n",
      "Epoch 10/50\n",
      "1/1 - 0s - loss: 0.1681 - accuracy: 1.0000\n",
      "Epoch 11/50\n",
      "1/1 - 0s - loss: 0.1629 - accuracy: 1.0000\n",
      "Epoch 12/50\n",
      "1/1 - 0s - loss: 0.1548 - accuracy: 1.0000\n",
      "Epoch 13/50\n",
      "1/1 - 0s - loss: 0.1448 - accuracy: 1.0000\n",
      "Epoch 14/50\n",
      "1/1 - 0s - loss: 0.1344 - accuracy: 1.0000\n",
      "Epoch 15/50\n",
      "1/1 - 0s - loss: 0.1248 - accuracy: 1.0000\n",
      "Epoch 16/50\n",
      "1/1 - 0s - loss: 0.1158 - accuracy: 1.0000\n",
      "Epoch 17/50\n",
      "1/1 - 0s - loss: 0.1072 - accuracy: 1.0000\n",
      "Epoch 18/50\n",
      "1/1 - 0s - loss: 0.0991 - accuracy: 1.0000\n",
      "Epoch 19/50\n",
      "1/1 - 0s - loss: 0.0918 - accuracy: 1.0000\n",
      "Epoch 20/50\n",
      "1/1 - 0s - loss: 0.0852 - accuracy: 1.0000\n",
      "Epoch 21/50\n",
      "1/1 - 0s - loss: 0.0792 - accuracy: 1.0000\n",
      "Epoch 22/50\n",
      "1/1 - 0s - loss: 0.0742 - accuracy: 1.0000\n",
      "Epoch 23/50\n",
      "1/1 - 0s - loss: 0.0702 - accuracy: 1.0000\n",
      "Epoch 24/50\n",
      "1/1 - 0s - loss: 0.0669 - accuracy: 1.0000\n",
      "Epoch 25/50\n",
      "1/1 - 0s - loss: 0.0645 - accuracy: 1.0000\n",
      "Epoch 26/50\n",
      "1/1 - 0s - loss: 0.0623 - accuracy: 1.0000\n",
      "Epoch 27/50\n",
      "1/1 - 0s - loss: 0.0603 - accuracy: 1.0000\n",
      "Epoch 28/50\n",
      "1/1 - 0s - loss: 0.0582 - accuracy: 1.0000\n",
      "Epoch 29/50\n",
      "1/1 - 0s - loss: 0.0560 - accuracy: 1.0000\n",
      "Epoch 30/50\n",
      "1/1 - 0s - loss: 0.0537 - accuracy: 1.0000\n",
      "Epoch 31/50\n",
      "1/1 - 0s - loss: 0.0515 - accuracy: 1.0000\n",
      "Epoch 32/50\n",
      "1/1 - 0s - loss: 0.0494 - accuracy: 1.0000\n",
      "Epoch 33/50\n",
      "1/1 - 0s - loss: 0.0475 - accuracy: 1.0000\n",
      "Epoch 34/50\n",
      "1/1 - 0s - loss: 0.0458 - accuracy: 1.0000\n",
      "Epoch 35/50\n",
      "1/1 - 0s - loss: 0.0443 - accuracy: 1.0000\n",
      "Epoch 36/50\n",
      "1/1 - 0s - loss: 0.0428 - accuracy: 1.0000\n",
      "Epoch 37/50\n",
      "1/1 - 0s - loss: 0.0414 - accuracy: 1.0000\n",
      "Epoch 38/50\n",
      "1/1 - 0s - loss: 0.0401 - accuracy: 1.0000\n",
      "Epoch 39/50\n",
      "1/1 - 0s - loss: 0.0389 - accuracy: 1.0000\n",
      "Epoch 40/50\n",
      "1/1 - 0s - loss: 0.0377 - accuracy: 1.0000\n",
      "Epoch 41/50\n",
      "1/1 - 0s - loss: 0.0367 - accuracy: 1.0000\n",
      "Epoch 42/50\n",
      "1/1 - 0s - loss: 0.0357 - accuracy: 1.0000\n",
      "Epoch 43/50\n",
      "1/1 - 0s - loss: 0.0348 - accuracy: 1.0000\n",
      "Epoch 44/50\n",
      "1/1 - 0s - loss: 0.0338 - accuracy: 1.0000\n",
      "Epoch 45/50\n",
      "1/1 - 0s - loss: 0.0329 - accuracy: 1.0000\n",
      "Epoch 46/50\n",
      "1/1 - 0s - loss: 0.0320 - accuracy: 1.0000\n",
      "Epoch 47/50\n",
      "1/1 - 0s - loss: 0.0312 - accuracy: 1.0000\n",
      "Epoch 48/50\n",
      "1/1 - 0s - loss: 0.0304 - accuracy: 1.0000\n",
      "Epoch 49/50\n",
      "1/1 - 0s - loss: 0.0297 - accuracy: 1.0000\n",
      "Epoch 50/50\n",
      "1/1 - 0s - loss: 0.0290 - accuracy: 1.0000\n"
     ]
    },
    {
     "data": {
      "text/plain": [
       "<tensorflow.python.keras.callbacks.History at 0x16a9ab38c10>"
      ]
     },
     "execution_count": 50,
     "metadata": {},
     "output_type": "execute_result"
    }
   ],
   "source": [
    "model.fit(x=X_train,y=y_train, batch_size=32,epochs=50, shuffle=False,verbose=2)"
   ]
  },
  {
   "cell_type": "code",
   "execution_count": 38,
   "id": "aa8ab468",
   "metadata": {},
   "outputs": [
    {
     "data": {
      "text/plain": [
       "array([[4.0762302e-01, 5.7514119e-01, 1.7235762e-02],\n",
       "       [1.8840061e-01, 7.9322731e-01, 1.8372096e-02],\n",
       "       [9.9985776e-03, 5.3163284e-01, 4.5836857e-01],\n",
       "       [1.7453098e-06, 9.9881315e-01, 1.1850977e-03],\n",
       "       [5.0050175e-01, 4.9375600e-01, 5.7422956e-03],\n",
       "       [6.4066428e-01, 3.5067278e-01, 8.6630378e-03]], dtype=float32)"
      ]
     },
     "execution_count": 38,
     "metadata": {},
     "output_type": "execute_result"
    }
   ],
   "source": [
    "# new_walk_dataset = makeOneObservation(pd.read_csv(f'./sample_datasets/Sample_walk_dataset_main_1.csv'))\n",
    "# new_run_dataset = makeOneObservation(pd.read_csv(f'./sample_datasets/Sample_run_dataset_main_2.csv'))\n",
    "# test_X,test_y = preprocessForXandY(new_walk_dataset,new_run_dataset)\n",
    "# X_walk = walk_dataset.iloc[:,[1,3,4,5,6,7,8,10,11,12,13,14,15,16,17,18,19,20,21,22,23,24,25,26]]\n",
    "# y_walk = walk_dataset.iloc[:,[2]]\n",
    "# X_test y_test\n",
    "model_predictions = model.predict(x=X_test, batch_size=10, verbose=0)\n",
    "round_pred = np.argmax(model_predictions, axis=-1)\n",
    "\n",
    "#print(accuracyNums(y_test,round_pred))\n",
    "model_predictions"
   ]
  },
  {
   "cell_type": "code",
   "execution_count": 56,
   "id": "703d1789",
   "metadata": {},
   "outputs": [
    {
     "name": "stdout",
     "output_type": "stream",
     "text": [
      "[[0.21486369 0.7602721  0.0248642 ]]\n"
     ]
    }
   ],
   "source": [
    "# new_walk_dataset = pd.read_csv(f'./Sample Datasets/Sample_walk_dataset_3.csv')\n",
    "# new_run_dataset = pd.read_csv(f'./Sample Datasets/Sample_run_dataset_3.csv')\n",
    "# X,y = preprocessForXandY(new_walk_dataset,new_run_dataset)\n",
    "# preds = model.predict(X)\n",
    "# preds\n",
    "print(model.predict([[21,\n",
    "                      1.9,-1.5,0.9,-0.9,-0.9,-0.6\n",
    ",4.4,-6.3,-0.1,0.9,0.3,0.3\n",
    ",-1.7,-1.7,2.2,-0.7,-1,-0.4\n",
    ",-5.7,1.3,1.5,0.7,0.5,6]]))\n",
    "\n",
    "\n",
    "\n",
    "# print(model.predict([[0.4,1.4,-6.9],\n",
    "# [-0.9,1.2,-2.2],\n",
    "# [-2.1,1.8,1.9],\n",
    "# [-1.8,3,2.2],\n",
    "# [1.5,3.7,2.2]]))"
   ]
  },
  {
   "cell_type": "code",
   "execution_count": 51,
   "id": "0c0f03f2",
   "metadata": {},
   "outputs": [
    {
     "name": "stdout",
     "output_type": "stream",
     "text": [
      "Model Version No. 1.2\n",
      "INFO:tensorflow:Assets written to: C:\\Users\\Mihir\\AppData\\Local\\Temp\\tmpxtzx9kl1\\assets\n"
     ]
    },
    {
     "name": "stderr",
     "output_type": "stream",
     "text": [
      "INFO:tensorflow:Assets written to: C:\\Users\\Mihir\\AppData\\Local\\Temp\\tmpxtzx9kl1\\assets\n"
     ]
    },
    {
     "name": "stdout",
     "output_type": "stream",
     "text": [
      "Model saved as: trained_models/run_walk_random_model_v1.2 in h5 and tflite\n",
      "1 input(s):\n",
      "[ 1 25] <class 'numpy.float32'>\n",
      "\n",
      "1 output(s):\n",
      "[1 3] <class 'numpy.float32'>\n"
     ]
    }
   ],
   "source": [
    "saveMyModel(model,input('Model Version No. '))"
   ]
  },
  {
   "cell_type": "code",
   "execution_count": null,
   "id": "5eababed",
   "metadata": {},
   "outputs": [],
   "source": [
    "from sklearn.neighbors import KNeighborsClassifier\n",
    "KNN = KNeighborsClassifier()"
   ]
  },
  {
   "cell_type": "code",
   "execution_count": null,
   "id": "12298a33",
   "metadata": {},
   "outputs": [],
   "source": [
    "KNN.fit(X, y)"
   ]
  },
  {
   "cell_type": "code",
   "execution_count": null,
   "id": "b0305a4a",
   "metadata": {},
   "outputs": [],
   "source": [
    "new_walk_dataset = pd.read_csv(f'./sample_datasets/Sample_walk_dataset_3.csv')\n",
    "new_run_dataset = pd.read_csv(f'./sample_datasets/Sample_run_dataset_1.csv')\n",
    "test_X,test_y = preprocessForXandY(new_walk_dataset,new_run_dataset)\n",
    "prediction_KNN = KNN.predict(test_X)\n",
    "accuracy_knn = accuracy_score(test_y, prediction_KNN)\n",
    "print (accuracy_knn,confusion_matrix(test_y,prediction_KNN))"
   ]
  },
  {
   "cell_type": "code",
   "execution_count": null,
   "id": "7dc6c6c6",
   "metadata": {},
   "outputs": [],
   "source": [
    "saveMyModel(KNN,input('Model Version No. '))"
   ]
  },
  {
   "cell_type": "code",
   "execution_count": null,
   "id": "71d8bdf3",
   "metadata": {},
   "outputs": [],
   "source": [
    "prediction_KNN = KNN.predict([[0.4,1.4,-6.9],\n",
    "[-0.9,1.2,-2.2],\n",
    "[-2.1,1.8,1.9],\n",
    "[-1.8,3,2.2],\n",
    "[1.5,3.7,2.2]])\n",
    "prediction_KNN"
   ]
  },
  {
   "cell_type": "code",
   "execution_count": null,
   "id": "36e8348d",
   "metadata": {},
   "outputs": [],
   "source": []
  }
 ],
 "metadata": {
  "kernelspec": {
   "display_name": "Python 3 (ipykernel)",
   "language": "python",
   "name": "python3"
  },
  "language_info": {
   "codemirror_mode": {
    "name": "ipython",
    "version": 3
   },
   "file_extension": ".py",
   "mimetype": "text/x-python",
   "name": "python",
   "nbconvert_exporter": "python",
   "pygments_lexer": "ipython3",
   "version": "3.8.0"
  }
 },
 "nbformat": 4,
 "nbformat_minor": 5
}
