{
 "cells": [
  {
   "cell_type": "code",
   "execution_count": 81,
   "id": "1366e315",
   "metadata": {},
   "outputs": [],
   "source": [
    "import os.path\n",
    "import numpy as np\n",
    "import pandas as pd\n",
    "import matplotlib.pyplot as plt\n",
    "from sklearn.model_selection import train_test_split\n",
    "from sklearn.metrics import confusion_matrix,classification_report,accuracy_score"
   ]
  },
  {
   "cell_type": "code",
   "execution_count": 196,
   "id": "4ae2e28c",
   "metadata": {},
   "outputs": [
    {
     "name": "stdout",
     "output_type": "stream",
     "text": [
      "Dataset Version number (Walk): 9\n"
     ]
    }
   ],
   "source": [
    "dataset_ver_walk = input('Dataset Version number (Walk): ')\n",
    "walk_dataset = pd.read_csv(f'./Sample Datasets/Sample_walk_dataset_{dataset_ver_walk}.csv')\n",
    "#test_walk_dataset = pd.read_csv(f'./Sample Datasets/Test_walk_dataset_{dataset_ver_walk}.csv')"
   ]
  },
  {
   "cell_type": "code",
   "execution_count": 197,
   "id": "e51e1cbb",
   "metadata": {},
   "outputs": [
    {
     "name": "stdout",
     "output_type": "stream",
     "text": [
      "Dataset Version number (Run): 9\n"
     ]
    }
   ],
   "source": [
    "dataset_ver_run = input('Dataset Version number (Run): ')\n",
    "run_dataset = pd.read_csv(f'./Sample Datasets/Sample_run_dataset_{dataset_ver_run}.csv')\n",
    "#test_run_dataset = pd.read_csv(f'./Sample Datasets/Test_run_dataset_{dataset_ver_run}.csv')"
   ]
  },
  {
   "cell_type": "code",
   "execution_count": 106,
   "id": "fdee9241",
   "metadata": {},
   "outputs": [],
   "source": [
    "def count_spikes(list,TS):\n",
    "    std_spike_val = 8\n",
    "    diff_ts_spike = 1.0\n",
    "    prev_spike_ts = 0.0\n",
    "    counter = 0\n",
    "    for idx,val in enumerate(list):\n",
    "        if val >= std_spike_val and TS[idx] - prev_spike_ts >= diff_ts_spike:\n",
    "            counter+=1\n",
    "            prev_spike_ts = TS[idx]\n",
    "        \n",
    "    print(f'Number of spikes: {counter}')\n",
    "\n",
    "def plot_one_plot():\n",
    "    val = input('Which section? (X,Y,Z,Acc): ')\n",
    "    if val == 'X':\n",
    "        plt.plot(TS,X,color=\"red\",linewidth=1.0)\n",
    "    elif val == 'Y':\n",
    "        plt.plot(TS,Y,color=\"red\",linewidth=1.0)\n",
    "    elif val == 'Z':\n",
    "        plt.plot(TS,Z,color=\"red\",linewidth=1.0)\n",
    "    else:\n",
    "        plt.axhline(y=12.5)\n",
    "        plt.axhline(y=10)\n",
    "        plt.scatter(TS,Acc,s=10,color=\"blue\")\n",
    "        plt.plot(TS,Acc,color=\"red\",linewidth=1.0)\n",
    "    plt.xlabel('Time Stamp')\n",
    "    plt.ylabel('acceleration in m/s (Gravity Incl)')\n",
    "\n",
    "\n",
    "def plot_sub_plots():\n",
    "    figure, axis = plt.subplots(2, 2)\n",
    "\n",
    "    axis[0,0].plot(TS,X,color=\"red\",linewidth=1.0)\n",
    "    axis[0,0].set_title(\"WRT X Values\")\n",
    "\n",
    "    axis[0,1].plot(TS,Y,color=\"blue\",linewidth=1.0)\n",
    "    axis[0,1].set_title(\"WRT Y Values\")\n",
    "\n",
    "    axis[1,0].plot(TS,Z,color=\"yellow\",linewidth=1.0)\n",
    "    axis[1,0].set_title(\"WRT Z Values\")\n",
    "\n",
    "    axis[1,1].plot(TS,X,color=\"red\",linewidth=1.0)\n",
    "    axis[1,1].plot(TS,Y,color=\"blue\",linewidth=1.0)\n",
    "    axis[1,1].plot(TS,Z,color=\"yellow\",linewidth=1.0)\n",
    "    axis[1,1].plot(TS,Acc,color=\"grey\",linewidth=1.0)\n",
    "    axis[1,1].set_title(\"WRT X,Y,Z,ACC Values\")\n",
    "    \n",
    "def preprocessForXandY(dataset_walk, dataset_run):\n",
    "    X_walk = dataset_walk.iloc[:,[1,3,4,5,6,7,8]]\n",
    "    y_walk = dataset_walk.iloc[:,[2]]\n",
    "    X_run = dataset_run.iloc[:,[1,3,4,5,6,7,8]]\n",
    "    y_run = dataset_run.iloc[:,[2]]\n",
    "    \n",
    "    X_frames = [X_walk,X_run]\n",
    "    X = pd.concat(X_frames)\n",
    "    Y_frames = [y_walk,y_run]\n",
    "    y = pd.concat(Y_frames)\n",
    "    return X,y\n",
    "\n",
    "def accuracyNums(y_exp, y_pred):\n",
    "    model_accuracy = accuracy_score(y_exp, y_pred)\n",
    "    return (model_accuracy,confusion_matrix(y_exp,y_pred))\n",
    "\n",
    "def saveMyModel(model,version_num):\n",
    "    file_name = f'trained_models/run_walk_model_v{version_num}'\n",
    "    if os.path.isfile(f'{file_name}.h5') is False:\n",
    "        model.save(f'{file_name}.h5')\n",
    "    converter = tf.lite.TFLiteConverter.from_keras_model(model)\n",
    "    tflite_model = converter.convert()\n",
    "    with open(f'{file_name}.tflite', 'wb') as f:\n",
    "      f.write(tflite_model)\n",
    "    interpreter = tf.lite.Interpreter(model_path=f'{file_name}.tflite')\n",
    "    interpreter.allocate_tensors()\n",
    "\n",
    "    print(f'Model saved as: {file_name} in h5 and tflite')\n",
    "    # Print input shape and type\n",
    "    inputs = interpreter.get_input_details()\n",
    "    print('{} input(s):'.format(len(inputs)))\n",
    "    for i in range(0, len(inputs)):\n",
    "        print('{} {}'.format(inputs[i]['shape'], inputs[i]['dtype']))\n",
    "\n",
    "    # Print output shape and type\n",
    "    outputs = interpreter.get_output_details()\n",
    "    print('\\n{} output(s):'.format(len(outputs)))\n",
    "    for i in range(0, len(outputs)):\n",
    "        print('{} {}'.format(outputs[i]['shape'], outputs[i]['dtype']))"
   ]
  },
  {
   "cell_type": "code",
   "execution_count": 43,
   "id": "d064b46d",
   "metadata": {},
   "outputs": [
    {
     "name": "stdout",
     "output_type": "stream",
     "text": [
      "run or walk? run\n",
      "What type of plot? Single (S) or Multiple (M) or count spikes (CS): M\n"
     ]
    },
    {
     "data": {
      "image/png": "[encoded data removed]",
      "text/plain": [
       "<Figure size 432x288 with 4 Axes>"
      ]
     },
     "metadata": {
      "needs_background": "light"
     },
     "output_type": "display_data"
    }
   ],
   "source": [
    "choice = input('run or walk? ')\n",
    "if choice == 'run':\n",
    "    matrix = run_dataset\n",
    "else:\n",
    "    matrix = walk_dataset\n",
    "plot_type = input('What type of plot? Single (S) or Multiple (M) or count spikes (CS): ')\n",
    "LR = matrix.iloc[:,[0]].values\n",
    "RW = matrix.iloc[:,[1]].values\n",
    "X = matrix.iloc[:,[2]].values\n",
    "Y = matrix.iloc[:,[3]].values\n",
    "Z = matrix.iloc[:,[4]].values\n",
    "Acc = matrix.iloc[:,[5]].values\n",
    "#TS_i = matrix.iloc[:,[4]].values[0]\n",
    "#TS = (matrix.iloc[:,[4]].values - TS_i)/100000000\n",
    "TS = matrix.iloc[:,[6]].values\n",
    "if TS[0] > 100000000:\n",
    "    TS = convert_ts(TS)\n",
    "if plot_type == 'S':\n",
    "    plot_one_plot()\n",
    "elif plot_type == 'M': \n",
    "    plot_sub_plots()\n",
    "else:\n",
    "    count_spikes(Acc,TS=TS)\n",
    "plt.show()"
   ]
  },
  {
   "cell_type": "code",
   "execution_count": 198,
   "id": "a3b61ac6",
   "metadata": {},
   "outputs": [
    {
     "name": "stdout",
     "output_type": "stream",
     "text": [
      "    Age  X_a  Y_a  Z_a  X_g  Y_g  Z_g\n",
      "0    21  2.7 -9.2 -0.9  0.0  0.0  0.0\n",
      "1    21  2.5 -8.5 -0.5 -0.5 -0.3 -0.3\n",
      "2    21  1.3 -8.5 -2.0  0.3 -0.3  0.0\n",
      "3    21  0.5 -9.3  2.0  0.7  0.7  0.3\n",
      "4    21  0.5 -9.6  1.3 -0.8 -0.8 -0.5\n",
      "..  ...  ...  ...  ...  ...  ...  ...\n",
      "48   21  3.5 -8.4 -0.1  0.3  0.2 -0.1\n",
      "49   21  4.0 -9.6  0.2  0.1  0.1 -0.1\n",
      "50   21  3.9 -9.6 -0.3  0.0  0.0  0.1\n",
      "51   21  2.8 -9.3  0.9  0.0  0.3  0.2\n",
      "52   21  4.5 -8.8 -1.2  0.0  0.2  0.2\n",
      "\n",
      "[79 rows x 7 columns] \n",
      "     Mode\n",
      "0      1\n",
      "1      1\n",
      "2      1\n",
      "3      1\n",
      "4      1\n",
      "..   ...\n",
      "48     0\n",
      "49     0\n",
      "50     0\n",
      "51     0\n",
      "52     0\n",
      "\n",
      "[79 rows x 1 columns]\n"
     ]
    }
   ],
   "source": [
    "X,y = preprocessForXandY(walk_dataset,run_dataset)\n",
    "#X_train, X_test, y_train, y_test = preprocessForXandY(walk_dataset,run_dataset)\n",
    "print(f'{X} \\n {y}')"
   ]
  },
  {
   "cell_type": "code",
   "execution_count": 132,
   "id": "40112301",
   "metadata": {},
   "outputs": [],
   "source": [
    "import tensorflow as tf\n",
    "from tensorflow import keras\n",
    "from tensorflow.keras.models import Sequential\n",
    "from tensorflow.keras.layers import Activation, Dense\n",
    "from tensorflow.keras.optimizers import Adam\n",
    "from tensorflow.keras.metrics import categorical_crossentropy"
   ]
  },
  {
   "cell_type": "code",
   "execution_count": 194,
   "id": "96cf3251",
   "metadata": {},
   "outputs": [
    {
     "name": "stdout",
     "output_type": "stream",
     "text": [
      "Version: 2.8\n"
     ]
    }
   ],
   "source": [
    "model_v = input('Version: ')\n",
    "file_name = f'trained_models/run_walk_model_v{model_v}.h5'\n",
    "model = keras.models.load_model(file_name)"
   ]
  },
  {
   "cell_type": "code",
   "execution_count": 133,
   "id": "d18825f4",
   "metadata": {},
   "outputs": [],
   "source": [
    "model = Sequential([\n",
    "    Dense(units=16, input_shape=(7,), activation='relu'),\n",
    "    Dense(units=32, activation='relu'),\n",
    "    Dense(units=2, activation='softmax')\n",
    "])"
   ]
  },
  {
   "cell_type": "code",
   "execution_count": 185,
   "id": "0440f74d",
   "metadata": {},
   "outputs": [
    {
     "name": "stdout",
     "output_type": "stream",
     "text": [
      "Model: \"sequential_4\"\n",
      "_________________________________________________________________\n",
      "Layer (type)                 Output Shape              Param #   \n",
      "=================================================================\n",
      "dense_12 (Dense)             (None, 16)                128       \n",
      "_________________________________________________________________\n",
      "dense_13 (Dense)             (None, 32)                544       \n",
      "_________________________________________________________________\n",
      "dense_14 (Dense)             (None, 2)                 66        \n",
      "=================================================================\n",
      "Total params: 738\n",
      "Trainable params: 738\n",
      "Non-trainable params: 0\n",
      "_________________________________________________________________\n"
     ]
    }
   ],
   "source": [
    "model.summary()"
   ]
  },
  {
   "cell_type": "code",
   "execution_count": 199,
   "id": "36f9473d",
   "metadata": {},
   "outputs": [
    {
     "name": "stdout",
     "output_type": "stream",
     "text": [
      "Epoch 1/50\n",
      "15/15 - 0s - loss: 0.4774 - accuracy: 0.7746 - val_loss: 1.2927 - val_accuracy: 0.1250\n",
      "Epoch 2/50\n",
      "15/15 - 0s - loss: 0.4135 - accuracy: 0.8169 - val_loss: 1.0882 - val_accuracy: 0.2500\n",
      "Epoch 3/50\n",
      "15/15 - 0s - loss: 0.3993 - accuracy: 0.8028 - val_loss: 0.9439 - val_accuracy: 0.2500\n",
      "Epoch 4/50\n",
      "15/15 - 0s - loss: 0.3985 - accuracy: 0.8028 - val_loss: 0.8690 - val_accuracy: 0.2500\n",
      "Epoch 5/50\n",
      "15/15 - 0s - loss: 0.3994 - accuracy: 0.8169 - val_loss: 0.8369 - val_accuracy: 0.2500\n",
      "Epoch 6/50\n",
      "15/15 - 0s - loss: 0.3985 - accuracy: 0.8451 - val_loss: 0.8264 - val_accuracy: 0.2500\n",
      "Epoch 7/50\n",
      "15/15 - 0s - loss: 0.3962 - accuracy: 0.8451 - val_loss: 0.8233 - val_accuracy: 0.2500\n",
      "Epoch 8/50\n",
      "15/15 - 0s - loss: 0.3928 - accuracy: 0.8451 - val_loss: 0.8225 - val_accuracy: 0.2500\n",
      "Epoch 9/50\n",
      "15/15 - 0s - loss: 0.3897 - accuracy: 0.8451 - val_loss: 0.8240 - val_accuracy: 0.2500\n",
      "Epoch 10/50\n",
      "15/15 - 0s - loss: 0.3866 - accuracy: 0.8451 - val_loss: 0.8276 - val_accuracy: 0.2500\n",
      "Epoch 11/50\n",
      "15/15 - 0s - loss: 0.3837 - accuracy: 0.8451 - val_loss: 0.8334 - val_accuracy: 0.2500\n",
      "Epoch 12/50\n",
      "15/15 - 0s - loss: 0.3805 - accuracy: 0.8451 - val_loss: 0.8368 - val_accuracy: 0.2500\n",
      "Epoch 13/50\n",
      "15/15 - 0s - loss: 0.3776 - accuracy: 0.8451 - val_loss: 0.8379 - val_accuracy: 0.2500\n",
      "Epoch 14/50\n",
      "15/15 - 0s - loss: 0.3756 - accuracy: 0.8451 - val_loss: 0.8427 - val_accuracy: 0.2500\n",
      "Epoch 15/50\n",
      "15/15 - 0s - loss: 0.3726 - accuracy: 0.8451 - val_loss: 0.8430 - val_accuracy: 0.2500\n",
      "Epoch 16/50\n",
      "15/15 - 0s - loss: 0.3705 - accuracy: 0.8451 - val_loss: 0.8477 - val_accuracy: 0.2500\n",
      "Epoch 17/50\n",
      "15/15 - 0s - loss: 0.3681 - accuracy: 0.8451 - val_loss: 0.8535 - val_accuracy: 0.2500\n",
      "Epoch 18/50\n",
      "15/15 - 0s - loss: 0.3652 - accuracy: 0.8451 - val_loss: 0.8558 - val_accuracy: 0.2500\n",
      "Epoch 19/50\n",
      "15/15 - 0s - loss: 0.3631 - accuracy: 0.8451 - val_loss: 0.8596 - val_accuracy: 0.2500\n",
      "Epoch 20/50\n",
      "15/15 - 0s - loss: 0.3606 - accuracy: 0.8451 - val_loss: 0.8627 - val_accuracy: 0.2500\n",
      "Epoch 21/50\n",
      "15/15 - 0s - loss: 0.3589 - accuracy: 0.8732 - val_loss: 0.8676 - val_accuracy: 0.2500\n",
      "Epoch 22/50\n",
      "15/15 - 0s - loss: 0.3563 - accuracy: 0.8732 - val_loss: 0.8683 - val_accuracy: 0.2500\n",
      "Epoch 23/50\n",
      "15/15 - 0s - loss: 0.3546 - accuracy: 0.8732 - val_loss: 0.8679 - val_accuracy: 0.2500\n",
      "Epoch 24/50\n",
      "15/15 - 0s - loss: 0.3532 - accuracy: 0.8732 - val_loss: 0.8709 - val_accuracy: 0.2500\n",
      "Epoch 25/50\n",
      "15/15 - 0s - loss: 0.3510 - accuracy: 0.8732 - val_loss: 0.8683 - val_accuracy: 0.2500\n",
      "Epoch 26/50\n",
      "15/15 - 0s - loss: 0.3500 - accuracy: 0.8873 - val_loss: 0.8685 - val_accuracy: 0.2500\n",
      "Epoch 27/50\n",
      "15/15 - 0s - loss: 0.3483 - accuracy: 0.8873 - val_loss: 0.8660 - val_accuracy: 0.2500\n",
      "Epoch 28/50\n",
      "15/15 - 0s - loss: 0.3474 - accuracy: 0.9014 - val_loss: 0.8661 - val_accuracy: 0.2500\n",
      "Epoch 29/50\n",
      "15/15 - 0s - loss: 0.3462 - accuracy: 0.9014 - val_loss: 0.8670 - val_accuracy: 0.2500\n",
      "Epoch 30/50\n",
      "15/15 - 0s - loss: 0.3446 - accuracy: 0.9014 - val_loss: 0.8643 - val_accuracy: 0.2500\n",
      "Epoch 31/50\n",
      "15/15 - 0s - loss: 0.3441 - accuracy: 0.8873 - val_loss: 0.8674 - val_accuracy: 0.2500\n",
      "Epoch 32/50\n",
      "15/15 - 0s - loss: 0.3423 - accuracy: 0.8873 - val_loss: 0.8659 - val_accuracy: 0.2500\n",
      "Epoch 33/50\n",
      "15/15 - 0s - loss: 0.3417 - accuracy: 0.8873 - val_loss: 0.8672 - val_accuracy: 0.2500\n",
      "Epoch 34/50\n",
      "15/15 - 0s - loss: 0.3403 - accuracy: 0.9014 - val_loss: 0.8653 - val_accuracy: 0.2500\n",
      "Epoch 35/50\n",
      "15/15 - 0s - loss: 0.3393 - accuracy: 0.9014 - val_loss: 0.8638 - val_accuracy: 0.2500\n",
      "Epoch 36/50\n",
      "15/15 - 0s - loss: 0.3391 - accuracy: 0.9014 - val_loss: 0.8676 - val_accuracy: 0.2500\n",
      "Epoch 37/50\n",
      "15/15 - 0s - loss: 0.3376 - accuracy: 0.9014 - val_loss: 0.8667 - val_accuracy: 0.2500\n",
      "Epoch 38/50\n",
      "15/15 - 0s - loss: 0.3370 - accuracy: 0.9014 - val_loss: 0.8661 - val_accuracy: 0.2500\n",
      "Epoch 39/50\n",
      "15/15 - 0s - loss: 0.3363 - accuracy: 0.9014 - val_loss: 0.8675 - val_accuracy: 0.2500\n",
      "Epoch 40/50\n",
      "15/15 - 0s - loss: 0.3356 - accuracy: 0.9014 - val_loss: 0.8691 - val_accuracy: 0.2500\n",
      "Epoch 41/50\n",
      "15/15 - 0s - loss: 0.3345 - accuracy: 0.9014 - val_loss: 0.8671 - val_accuracy: 0.2500\n",
      "Epoch 42/50\n",
      "15/15 - 0s - loss: 0.3344 - accuracy: 0.9014 - val_loss: 0.8700 - val_accuracy: 0.2500\n",
      "Epoch 43/50\n",
      "15/15 - 0s - loss: 0.3332 - accuracy: 0.9014 - val_loss: 0.8697 - val_accuracy: 0.2500\n",
      "Epoch 44/50\n",
      "15/15 - 0s - loss: 0.3325 - accuracy: 0.9014 - val_loss: 0.8696 - val_accuracy: 0.2500\n",
      "Epoch 45/50\n",
      "15/15 - 0s - loss: 0.3320 - accuracy: 0.9014 - val_loss: 0.8702 - val_accuracy: 0.2500\n",
      "Epoch 46/50\n",
      "15/15 - 0s - loss: 0.3315 - accuracy: 0.9014 - val_loss: 0.8729 - val_accuracy: 0.2500\n",
      "Epoch 47/50\n",
      "15/15 - 0s - loss: 0.3302 - accuracy: 0.9014 - val_loss: 0.8719 - val_accuracy: 0.2500\n",
      "Epoch 48/50\n",
      "15/15 - 0s - loss: 0.3297 - accuracy: 0.9014 - val_loss: 0.8733 - val_accuracy: 0.2500\n",
      "Epoch 49/50\n",
      "15/15 - 0s - loss: 0.3290 - accuracy: 0.9014 - val_loss: 0.8733 - val_accuracy: 0.2500\n",
      "Epoch 50/50\n",
      "15/15 - 0s - loss: 0.3283 - accuracy: 0.9014 - val_loss: 0.8746 - val_accuracy: 0.2500\n"
     ]
    },
    {
     "data": {
      "text/plain": [
       "<tensorflow.python.keras.callbacks.History at 0x1ec3a5a5970>"
      ]
     },
     "execution_count": 199,
     "metadata": {},
     "output_type": "execute_result"
    }
   ],
   "source": [
    "model.compile(optimizer=Adam(learning_rate=0.0001), loss='sparse_categorical_crossentropy', metrics=['accuracy'])\n",
    "model.fit(x=X,y=y, batch_size=5, validation_split=0.1,epochs=50, shuffle=False,verbose=2)"
   ]
  },
  {
   "cell_type": "code",
   "execution_count": 195,
   "id": "aa8ab468",
   "metadata": {},
   "outputs": [
    {
     "name": "stdout",
     "output_type": "stream",
     "text": [
      "(0.7215189873417721, array([[35, 18],\n",
      "       [ 4, 22]], dtype=int64))\n"
     ]
    }
   ],
   "source": [
    "new_walk_dataset = pd.read_csv(f'./Sample Datasets/Sample_walk_dataset_9.csv')\n",
    "new_run_dataset = pd.read_csv(f'./Sample Datasets/Sample_run_dataset_9.csv')\n",
    "test_X,test_y = preprocessForXandY(new_walk_dataset,new_run_dataset)\n",
    "model_predictions = model.predict(x=test_X, batch_size=10, verbose=0)\n",
    "round_pred = np.argmax(model_predictions, axis=-1)\n",
    "print(accuracyNums(test_y,round_pred))"
   ]
  },
  {
   "cell_type": "code",
   "execution_count": 114,
   "id": "703d1789",
   "metadata": {},
   "outputs": [
    {
     "data": {
      "text/plain": [
       "array([[0.48831064, 0.51168936],\n",
       "       [0.7246048 , 0.27539524],\n",
       "       [0.769928  , 0.23007202],\n",
       "       [0.28395227, 0.7160477 ],\n",
       "       [0.268042  , 0.73195803],\n",
       "       [0.4049483 , 0.59505177],\n",
       "       [0.37818846, 0.6218115 ],\n",
       "       [0.4677565 , 0.53224343],\n",
       "       [0.68305814, 0.31694192],\n",
       "       [0.25774643, 0.7422536 ],\n",
       "       [0.26335788, 0.7366421 ],\n",
       "       [0.4591262 , 0.5408738 ],\n",
       "       [0.49045157, 0.50954837],\n",
       "       [0.60607976, 0.39392024],\n",
       "       [0.80026025, 0.19973971],\n",
       "       [0.32416677, 0.6758332 ],\n",
       "       [0.28501502, 0.71498495],\n",
       "       [0.63862765, 0.36137235],\n",
       "       [0.4330724 , 0.5669276 ],\n",
       "       [0.55975807, 0.440242  ],\n",
       "       [0.8544008 , 0.14559922],\n",
       "       [0.3029705 , 0.69702953],\n",
       "       [0.26699275, 0.73300725],\n",
       "       [0.35688248, 0.6431175 ],\n",
       "       [0.3019657 , 0.69803435],\n",
       "       [0.4842254 , 0.5157746 ],\n",
       "       [0.4884622 , 0.51153785],\n",
       "       [0.46648708, 0.5335129 ],\n",
       "       [0.27464747, 0.7253525 ],\n",
       "       [0.37868905, 0.6213109 ],\n",
       "       [0.3859166 , 0.6140834 ],\n",
       "       [0.46501392, 0.5349861 ],\n",
       "       [0.5349955 , 0.4650045 ],\n",
       "       [0.39278185, 0.6072182 ],\n",
       "       [0.2791686 , 0.72083145],\n",
       "       [0.39881018, 0.60118985],\n",
       "       [0.27721035, 0.7227896 ],\n",
       "       [0.42036375, 0.57963634],\n",
       "       [0.65870696, 0.3412931 ],\n",
       "       [0.44903868, 0.5509613 ],\n",
       "       [0.29514882, 0.70485127],\n",
       "       [0.34603605, 0.653964  ],\n",
       "       [0.24222976, 0.7577703 ],\n",
       "       [0.4263594 , 0.5736406 ],\n",
       "       [0.6205624 , 0.37943769],\n",
       "       [0.15466253, 0.84533745],\n",
       "       [0.31177142, 0.68822855],\n",
       "       [0.3229207 , 0.6770793 ],\n",
       "       [0.32086852, 0.67913145],\n",
       "       [0.3832895 , 0.6167105 ],\n",
       "       [0.857062  , 0.14293806],\n",
       "       [0.3878894 , 0.6121107 ],\n",
       "       [0.28239405, 0.71760595],\n",
       "       [0.25470135, 0.7452987 ],\n",
       "       [0.5365224 , 0.46347764],\n",
       "       [0.30787194, 0.69212806],\n",
       "       [0.79484475, 0.20515524],\n",
       "       [0.17981209, 0.8201879 ],\n",
       "       [0.45170495, 0.5482951 ],\n",
       "       [0.36253548, 0.6374645 ],\n",
       "       [0.28770253, 0.7122975 ],\n",
       "       [0.29393923, 0.70606077],\n",
       "       [0.36880484, 0.6311951 ],\n",
       "       [0.38251376, 0.6174862 ],\n",
       "       [0.34944203, 0.650558  ],\n",
       "       [0.28821427, 0.7117857 ],\n",
       "       [0.7988988 , 0.20110115],\n",
       "       [0.93042773, 0.0695723 ],\n",
       "       [0.54619384, 0.4538061 ],\n",
       "       [0.5009476 , 0.49905238],\n",
       "       [0.45078507, 0.5492149 ],\n",
       "       [0.24469106, 0.755309  ],\n",
       "       [0.5239519 , 0.47604808],\n",
       "       [0.59128314, 0.40871683],\n",
       "       [0.75218815, 0.24781187],\n",
       "       [0.8387513 , 0.16124861],\n",
       "       [0.78487486, 0.2151252 ],\n",
       "       [0.6412832 , 0.3587168 ],\n",
       "       [0.59280765, 0.40719232],\n",
       "       [0.6889109 , 0.311089  ],\n",
       "       [0.91796196, 0.0820381 ],\n",
       "       [0.5322691 , 0.46773094],\n",
       "       [0.69417185, 0.30582815],\n",
       "       [0.485705  , 0.514295  ],\n",
       "       [0.9509081 , 0.04909188],\n",
       "       [0.41099876, 0.5890013 ],\n",
       "       [0.85984015, 0.14015986],\n",
       "       [0.530409  , 0.46959102],\n",
       "       [0.77353835, 0.22646168],\n",
       "       [0.39203689, 0.6079631 ],\n",
       "       [0.917852  , 0.08214808],\n",
       "       [0.32377106, 0.67622894],\n",
       "       [0.75506544, 0.24493454],\n",
       "       [0.33698693, 0.6630131 ],\n",
       "       [0.99776745, 0.00223256],\n",
       "       [0.33938047, 0.66061956],\n",
       "       [0.6902567 , 0.3097433 ],\n",
       "       [0.44336626, 0.5566337 ],\n",
       "       [0.4857935 , 0.5142065 ],\n",
       "       [0.55995435, 0.4400456 ]], dtype=float32)"
      ]
     },
     "execution_count": 114,
     "metadata": {},
     "output_type": "execute_result"
    }
   ],
   "source": [
    "new_walk_dataset = pd.read_csv(f'./Sample Datasets/Sample_walk_dataset_3.csv')\n",
    "# new_run_dataset = pd.read_csv(f'./Sample Datasets/Sample_run_dataset_3.csv')\n",
    "# X,y = preprocessForXandY(new_walk_dataset,new_run_dataset)\n",
    "# preds = model.predict(X)\n",
    "# preds\n",
    "# print(model.predict([[-0.5,-0.6,0.5],\n",
    "# [0.5,-1.3,-0.1],\n",
    "# [0,-0.2,-1.3],\n",
    "# [-0.3,-0.2,-0.6],\n",
    "# [0.1,-1.3,1.2]]))\n",
    "\n",
    "\n",
    "# print(model.predict([[0.4,1.4,-6.9],\n",
    "# [-0.9,1.2,-2.2],\n",
    "# [-2.1,1.8,1.9],\n",
    "# [-1.8,3,2.2],\n",
    "# [1.5,3.7,2.2]]))"
   ]
  },
  {
   "cell_type": "code",
   "execution_count": 200,
   "id": "c3978939",
   "metadata": {},
   "outputs": [
    {
     "name": "stdout",
     "output_type": "stream",
     "text": [
      "Model Version No. 2.9\n",
      "INFO:tensorflow:Assets written to: C:\\Users\\Mihir\\AppData\\Local\\Temp\\tmp3t2t8lu9\\assets\n"
     ]
    },
    {
     "name": "stderr",
     "output_type": "stream",
     "text": [
      "INFO:tensorflow:Assets written to: C:\\Users\\Mihir\\AppData\\Local\\Temp\\tmp3t2t8lu9\\assets\n"
     ]
    },
    {
     "name": "stdout",
     "output_type": "stream",
     "text": [
      "Model saved as: trained_models/run_walk_model_v2.9 in h5 and tflite\n",
      "1 input(s):\n",
      "[1 7] <class 'numpy.float32'>\n",
      "\n",
      "1 output(s):\n",
      "[1 2] <class 'numpy.float32'>\n"
     ]
    }
   ],
   "source": [
    "saveMyModel(model,input('Model Version No. '))"
   ]
  },
  {
   "cell_type": "code",
   "execution_count": null,
   "id": "7d0978b9",
   "metadata": {},
   "outputs": [],
   "source": []
  },
  {
   "cell_type": "code",
   "execution_count": 76,
   "id": "5eababed",
   "metadata": {},
   "outputs": [],
   "source": [
    "from sklearn.neighbors import KNeighborsClassifier"
   ]
  },
  {
   "cell_type": "code",
   "execution_count": 77,
   "id": "19e33b20",
   "metadata": {},
   "outputs": [
    {
     "name": "stderr",
     "output_type": "stream",
     "text": [
      "c:\\users\\mihir\\appdata\\local\\programs\\python\\python38\\lib\\site-packages\\sklearn\\neighbors\\_classification.py:179: DataConversionWarning: A column-vector y was passed when a 1d array was expected. Please change the shape of y to (n_samples,), for example using ravel().\n",
      "  return self._fit(X, y)\n"
     ]
    },
    {
     "data": {
      "text/plain": [
       "KNeighborsClassifier()"
      ]
     },
     "execution_count": 77,
     "metadata": {},
     "output_type": "execute_result"
    }
   ],
   "source": [
    "KNN = KNeighborsClassifier()\n",
    "KNN.fit(X_train, y_train)"
   ]
  },
  {
   "cell_type": "code",
   "execution_count": 78,
   "id": "6a7966a0",
   "metadata": {},
   "outputs": [
    {
     "name": "stdout",
     "output_type": "stream",
     "text": [
      "0.7969924812030075 [[46 19]\n",
      " [ 8 60]]\n"
     ]
    }
   ],
   "source": [
    "prediction_KNN = KNN.predict(X_test)\n",
    "accuracy_knn = accuracy_score(y_test, prediction_KNN)\n",
    "print (accuracy_knn,confusion_matrix(y_test,prediction_KNN))"
   ]
  },
  {
   "cell_type": "code",
   "execution_count": 80,
   "id": "a41b5633",
   "metadata": {},
   "outputs": [
    {
     "data": {
      "text/plain": [
       "array([1, 0, 0, 0, 1], dtype=int64)"
      ]
     },
     "execution_count": 80,
     "metadata": {},
     "output_type": "execute_result"
    }
   ],
   "source": [
    "prediction_KNN = KNN.predict([[0.4,1.4,-6.9],\n",
    "[-0.9,1.2,-2.2],\n",
    "[-2.1,1.8,1.9],\n",
    "[-1.8,3,2.2],\n",
    "[1.5,3.7,2.2]])\n",
    "prediction_KNN"
   ]
  },
  {
   "cell_type": "code",
   "execution_count": null,
   "id": "1883bb2b",
   "metadata": {},
   "outputs": [],
   "source": []
  }
 ],
 "metadata": {
  "kernelspec": {
   "display_name": "Python 3 (ipykernel)",
   "language": "python",
   "name": "python3"
  },
  "language_info": {
   "codemirror_mode": {
    "name": "ipython",
    "version": 3
   },
   "file_extension": ".py",
   "mimetype": "text/x-python",
   "name": "python",
   "nbconvert_exporter": "python",
   "pygments_lexer": "ipython3",
   "version": "3.8.0"
  }
 },
 "nbformat": 4,
 "nbformat_minor": 5
}
